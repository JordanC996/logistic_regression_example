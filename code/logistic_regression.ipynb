{
 "cells": [
  {
   "cell_type": "code",
   "execution_count": 2,
   "id": "initial_id",
   "metadata": {
    "collapsed": true,
    "ExecuteTime": {
     "end_time": "2024-09-03T09:03:25.792873Z",
     "start_time": "2024-09-03T09:03:25.593852200Z"
    }
   },
   "outputs": [],
   "source": [
    "#Dataset\n",
    "import numpy as np\n",
    "import math\n",
    "\n",
    "def sigmoid(z):\n",
    "    return 1/(1 + np.exp(-z))\n",
    "\n",
    "# initialize a random datqset with n_samples, return (x,y) of dataset\n",
    "def create_dataset(n_samples: int, n_features: int, mu = 0, sigma = 1):\n",
    "    weights = np.random.uniform(-10, 10, n_features + 1)\n",
    "    x = np.random.normal(mu, sigma, (n_samples, n_features))\n",
    "    intercept = np.ones((n_samples, 1))\n",
    "    x = np.concatenate((intercept, x), axis=1)\n",
    "    linear_combination = np.dot(x, weights)\n",
    "    probabilities = sigmoid(linear_combination)\n",
    "    y = (probabilities > 0.5).astype(int)\n",
    "\n",
    "    return x, y"
   ]
  },
  {
   "cell_type": "code",
   "execution_count": 3,
   "outputs": [],
   "source": [
    "# logistic model class\n",
    "class LogisticModel:\n",
    "    def __init__(self, learning_rate: float, num_parameters: int):\n",
    "        self.learning_rate = learning_rate\n",
    "        self.theta = self.model_init(num_parameters)\n",
    "        self.log_loss = 0\n",
    "    @staticmethod\n",
    "    def __sigmoid(z):\n",
    "        return 1/(1 + np.exp(-z))\n",
    "    @staticmethod\n",
    "    def model_init(num_parameters: int):\n",
    "        return np.random.normal(0, 0.1, num_parameters)\n",
    "        \n",
    "    @staticmethod\n",
    "    def gradient(y, h_x, x):\n",
    "        return (h_x - y) * x\n",
    "    \n",
    "    @staticmethod\n",
    "    def log_loss_update(y, h): \n",
    "        h = np.clip(h, 1e-15, 1 - 1e-15)\n",
    "        return -(y * math.log(h) + (1 - y) * math.log(1 - h))\n",
    "    \n",
    "    def h(self, x):\n",
    "        return self.__sigmoid(np.dot(x, self.theta))\n",
    "    \n",
    "    def inference(self, x):\n",
    "        probability = self.h(x)\n",
    "        return 1 if probability > 0.5 else 0\n",
    "    \n",
    "\n"
   ],
   "metadata": {
    "collapsed": false,
    "ExecuteTime": {
     "end_time": "2024-09-03T09:03:28.272133500Z",
     "start_time": "2024-09-03T09:03:28.245661500Z"
    }
   },
   "id": "11c74d298f8c0e84"
  },
  {
   "cell_type": "code",
   "execution_count": 13,
   "outputs": [],
   "source": [
    "# model init, training, loss functions\n",
    "def model_init(num_parameters: int):\n",
    "    return np.random.normal(0, 0.1, num_parameters)\n",
    "\n",
    "\n",
    "def training(num_epoch: int, learning_rate: float, logistic_model: LogisticModel, mini_batch_size: int, data_points: np.ndarray,\n",
    "             labels: np.ndarray):\n",
    "    num_mini_batch = len(data_points) // mini_batch_size\n",
    "\n",
    "    for i in range(num_epoch):\n",
    "        # shuffle\n",
    "        random_indeces = np.random.choice(len(data_points), len(data_points), replace=False)\n",
    "        shuffled_data_points = data_points[random_indeces]\n",
    "        shuffled_labels = labels[random_indeces]\n",
    "        x_batches = np.array_split(shuffled_data_points, num_mini_batch)\n",
    "        y_batches = np.array_split(shuffled_labels, num_mini_batch)\n",
    "        for x_batch, y_batch in zip(x_batches, y_batches):\n",
    "            update_step_value = np.zeros(logistic_model.theta.shape[0])\n",
    "            for x, y in zip(x_batch, y_batch):\n",
    "                h_x = logistic_model.h(x)\n",
    "                update_step_value += logistic_model.gradient(y, h_x, x)\n",
    "                logistic_model.log_loss += logistic_model.log_loss_update(y, h_x)\n",
    "            logistic_model.theta -= learning_rate * update_step_value\n",
    "        logistic_model.log_loss = logistic_model.log_loss / len(data_points)\n",
    "        print(f\"epoch log loss: {logistic_model.log_loss}\")\n",
    "        logistic_model.log_loss = 0\n",
    "\n",
    "\n",
    "\n"
   ],
   "metadata": {
    "collapsed": false,
    "ExecuteTime": {
     "end_time": "2024-09-03T09:14:02.620198500Z",
     "start_time": "2024-09-03T09:14:02.615344Z"
    }
   },
   "id": "6dc6c75ba0eb0fbf"
  },
  {
   "cell_type": "code",
   "execution_count": 5,
   "outputs": [],
   "source": [
    "def test(logistic_model: LogisticModel, x_test: np.ndarray, y_test: np.ndarray):\n",
    "    correct_predictions = 0\n",
    "    for x, y in zip(x_test, y_test):\n",
    "        prediction = logistic_model.inference(x)\n",
    "\n",
    "        if prediction == y:\n",
    "            correct_predictions +=1\n",
    "        \n",
    "    return correct_predictions / len(x_test)\n",
    "        "
   ],
   "metadata": {
    "collapsed": false,
    "ExecuteTime": {
     "end_time": "2024-09-03T09:03:32.660331Z",
     "start_time": "2024-09-03T09:03:32.644340700Z"
    }
   },
   "id": "85ca7a13c481b625"
  },
  {
   "cell_type": "code",
   "execution_count": 14,
   "outputs": [
    {
     "name": "stdout",
     "output_type": "stream",
     "text": [
      "[ 0.02728101 -0.08458381 -0.12332572  0.18438048]\n",
      "epoch log loss: 0.19345915289758278\n",
      "epoch log loss: 0.1081370447830911\n",
      "[ 3.9946352  -2.64290778  4.07206803  0.45311932]\n"
     ]
    }
   ],
   "source": [
    "# training\n",
    "x_s, y_s = create_dataset(10000, 3)\n",
    "\n",
    "split_index = int(0.8*len(x_s))\n",
    "x_train, x_test = x_s[:split_index], x_s[split_index:]\n",
    "y_train, y_test = y_s[:split_index], y_s[split_index:]\n",
    "\n",
    "logistic_model = LogisticModel(0.01, x_s.shape[1])\n",
    "\n",
    "training(2, 0.01, logistic_model, 32, x_train, y_train)\n",
    "\n",
    "\n"
   ],
   "metadata": {
    "collapsed": false,
    "ExecuteTime": {
     "end_time": "2024-09-03T09:14:07.987437700Z",
     "start_time": "2024-09-03T09:14:07.847354800Z"
    }
   },
   "id": "17f83a78a98c32d0"
  },
  {
   "cell_type": "code",
   "execution_count": 16,
   "outputs": [
    {
     "name": "stdout",
     "output_type": "stream",
     "text": [
      "Accuracy without training:  0.3105\n",
      "Accuracy with training:  0.995\n"
     ]
    }
   ],
   "source": [
    "#model test\n",
    "logistic_model_2 = LogisticModel(0.01, x_s.shape[1])\n",
    "print(\"Accuracy without training: \", test(logistic_model_2, x_test, y_test))\n",
    "print(\"Accuracy with training: \", test(logistic_model, x_test, y_test))"
   ],
   "metadata": {
    "collapsed": false,
    "ExecuteTime": {
     "end_time": "2024-09-03T10:14:17.817898400Z",
     "start_time": "2024-09-03T10:14:17.796597500Z"
    }
   },
   "id": "2e3e81907594166e"
  }
 ],
 "metadata": {
  "kernelspec": {
   "display_name": "Python 3",
   "language": "python",
   "name": "python3"
  },
  "language_info": {
   "codemirror_mode": {
    "name": "ipython",
    "version": 2
   },
   "file_extension": ".py",
   "mimetype": "text/x-python",
   "name": "python",
   "nbconvert_exporter": "python",
   "pygments_lexer": "ipython2",
   "version": "2.7.6"
  }
 },
 "nbformat": 4,
 "nbformat_minor": 5
}
